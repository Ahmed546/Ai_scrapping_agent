{
 "cells": [
  {
   "cell_type": "code",
   "execution_count": 1,
   "metadata": {},
   "outputs": [],
   "source": [
    "import requests\n",
    "from bs4 import BeautifulSoup\n",
    "from fake_useragent import UserAgent\n",
    "import time\n",
    "\n",
    "class SearchAgent:\n",
    "    def __init__(self, country):\n",
    "        self.country = country\n",
    "        self.job_titles = [\n",
    "            \"CTO\", \"CEO\", \"Talent Acquisition\", \"HR Manager\"\n",
    "        ]\n",
    "        self.industries = [\n",
    "            \"Generative AI\", \"Artificial Intelligence\", \"Machine Learning\", \"Software Companies\"\n",
    "        ]\n",
    "\n",
    "    def get_profiles(self):\n",
    "        headers = {\"User-Agent\": UserAgent().random}\n",
    "        profiles = []\n",
    "\n",
    "        for title in self.job_titles:\n",
    "            for industry in self.industries:\n",
    "                search_query = f\"{title} {industry} {self.country} site:linkedin.com/in/\"\n",
    "                google_search_url = f\"https://www.google.com/search?q={search_query}&num=20\"\n",
    "\n",
    "                response = requests.get(google_search_url, headers=headers)\n",
    "                time.sleep(2)  # Avoid getting blocked\n",
    "\n",
    "                if response.status_code == 200:\n",
    "                    soup = BeautifulSoup(response.text, \"html.parser\")\n",
    "                    for link in soup.find_all(\"a\", href=True):\n",
    "                        href = link[\"href\"]\n",
    "                        if \"linkedin.com/in/\" in href:\n",
    "                            profile_link = href.split(\"&\")[0].replace(\"/url?q=\", \"\")\n",
    "                            profiles.append(profile_link)\n",
    "\n",
    "        return list(set(profiles))  # Remove duplicates\n"
   ]
  },
  {
   "cell_type": "code",
   "execution_count": 2,
   "metadata": {},
   "outputs": [],
   "source": [
    "import re\n",
    "\n",
    "class FilterAgent:\n",
    "    def __init__(self, profiles):\n",
    "        self.profiles = profiles\n",
    "\n",
    "    def clean_profiles(self):\n",
    "        unique_profiles = list(set(self.profiles))  # Remove duplicates\n",
    "        return [profile for profile in unique_profiles if re.search(r\"linkedin\\.com/in/\", profile)]\n"
   ]
  },
  {
   "cell_type": "code",
   "execution_count": 14,
   "metadata": {},
   "outputs": [
    {
     "name": "stdout",
     "output_type": "stream",
     "text": [
      "\n",
      "[✅] Extracted LinkedIn Profiles:\n",
      "/search?q=CTO+USA+site:linkedin.com/in/\n"
     ]
    }
   ],
   "source": [
    "import autogen\n",
    "\n",
    "# Initialize agents to search for AI industry leaders\n",
    "search_agent = SearchAgent(\"USA\")\n",
    "profiles = search_agent.get_ctos()  # Get profiles (only LinkedIn URLs)\n",
    "\n",
    "filter_agent = FilterAgent(profiles)\n",
    "cleaned_profiles = filter_agent.clean_profiles()  # Clean & remove duplicates\n",
    "\n",
    "# Print LinkedIn profile links\n",
    "print(\"\\n[✅] Extracted LinkedIn Profiles:\")\n",
    "for profile in cleaned_profiles:\n",
    "    print(profile)\n"
   ]
  },
  {
   "cell_type": "code",
   "execution_count": 16,
   "metadata": {},
   "outputs": [],
   "source": []
  },
  {
   "cell_type": "code",
   "execution_count": 17,
   "metadata": {},
   "outputs": [
    {
     "name": "stdout",
     "output_type": "stream",
     "text": [
      "\n",
      "[✅] Extracted LinkedIn Profiles:\n",
      "/search?q=CEO+Machine+Learning+USA+site:linkedin.com/in/\n",
      "/search?q=CTO+Generative+AI+USA+site:linkedin.com/in/\n",
      "/search?q=HR+Manager+Generative+AI+USA+site:linkedin.com/in/\n",
      "/search?q=HR+Manager+Artificial+Intelligence+USA+site:linkedin.com/in/\n",
      "/search?q=CTO+Artificial+Intelligence+USA+site:linkedin.com/in/\n",
      "/search?q=CTO+Machine+Learning+USA+site:linkedin.com/in/\n",
      "/search?q=Talent+Acquisition+Generative+AI+USA+site:linkedin.com/in/\n",
      "/search?q=CEO+Artificial+Intelligence+USA+site:linkedin.com/in/\n",
      "/search?q=Talent+Acquisition+Artificial+Intelligence+USA+site:linkedin.com/in/\n",
      "/search?q=CEO+Generative+AI+USA+site:linkedin.com/in/\n",
      "/search?q=HR+Manager+Software+Companies+USA+site:linkedin.com/in/\n",
      "/search?q=CTO+Software+Companies+USA+site:linkedin.com/in/\n",
      "/search?q=HR+Manager+Machine+Learning+USA+site:linkedin.com/in/\n",
      "/search?q=CEO+Software+Companies+USA+site:linkedin.com/in/\n",
      "/search?q=Talent+Acquisition+Machine+Learning+USA+site:linkedin.com/in/\n",
      "/search?q=Talent+Acquisition+Software+Companies+USA+site:linkedin.com/in/\n"
     ]
    }
   ],
   "source": [
    "# Initialize agents\n",
    "search_agent = SearchAgent(\"USA\")\n",
    "profiles = search_agent.get_profiles()  # Get LinkedIn profile links\n",
    "\n",
    "# Print the results\n",
    "print(\"\\n[✅] Extracted LinkedIn Profiles:\")\n",
    "for profile in profiles:\n",
    "    print(profile)\n"
   ]
  },
  {
   "cell_type": "code",
   "execution_count": 19,
   "metadata": {},
   "outputs": [],
   "source": [
    "import requests\n",
    "from bs4 import BeautifulSoup\n",
    "from fake_useragent import UserAgent\n",
    "import pandas as pd\n",
    "import time\n",
    "\n",
    "class SearchAgent:\n",
    "    def __init__(self, country):\n",
    "        self.country = country\n",
    "        self.job_titles = [\"CTO\", \"CEO\", \"Talent Acquisition\", \"HR Manager\"]\n",
    "        self.industries = [\"Generative AI\", \"Artificial Intelligence\", \"Machine Learning\", \"Software Companies\"]\n",
    "        self.search_engine_url = \"https://www.bing.com/search?q=\"  # Use Bing instead of Google\n",
    "\n",
    "    def get_profiles(self):\n",
    "        headers = {\"User-Agent\": UserAgent().random}\n",
    "        profiles = []\n",
    "\n",
    "        for title in self.job_titles:\n",
    "            for industry in self.industries:\n",
    "                search_query = f\"{title} {industry} {self.country} site:linkedin.com/in/\"\n",
    "                response = requests.get(f\"{self.search_engine_url}{search_query}&count=50\", headers=headers)\n",
    "                time.sleep(3)  # Avoid getting blocked\n",
    "\n",
    "                if response.status_code == 200:\n",
    "                    soup = BeautifulSoup(response.text, \"html.parser\")\n",
    "                    for link in soup.find_all(\"a\", href=True):\n",
    "                        href = link[\"href\"]\n",
    "                        if \"linkedin.com/in/\" in href:\n",
    "                            profiles.append(href)  # Direct LinkedIn profile link\n",
    "\n",
    "        return list(set(profiles))  # Remove duplicates\n",
    "\n",
    "    def save_to_csv(self, profiles, filename=\"linkedin_profiles.csv\"):\n",
    "        df = pd.DataFrame(profiles, columns=[\"LinkedIn Profile\"])\n",
    "        df.to_csv(filename, index=False)\n",
    "        print(f\"[✅] Profiles saved to {filename}\")\n"
   ]
  },
  {
   "cell_type": "code",
   "execution_count": 20,
   "metadata": {},
   "outputs": [
    {
     "name": "stdout",
     "output_type": "stream",
     "text": [
      "\n",
      "[✅] Extracted LinkedIn Profiles:\n",
      "https://www.linkedin.com/in/anthony-melatti-8284a46b\n",
      "https://www.linkedin.com/in/harrison-m-8990721b8\n",
      "https://www.linkedin.com/in/satya-shah\n",
      "https://www.linkedin.com/in/zhengping-ji-494649b\n",
      "https://www.linkedin.com/in/ashishgandotra\n",
      "https://www.linkedin.com/in/rohit-tiwari-907387204\n",
      "https://www.linkedin.com/in/tahak\n",
      "https://www.linkedin.com/in/vijay0\n",
      "https://www.linkedin.com/in/sameersingh\n",
      "https://www.linkedin.com/in/davidtalby\n",
      "https://www.linkedin.com/in/andrew-fausak-a43631\n",
      "https://www.linkedin.com/in/gmlander\n",
      "https://www.linkedin.com/in/james-tooles\n",
      "https://www.linkedin.com/in/jim-miller-mba-bb2ab43\n",
      "https://www.linkedin.com/in/jeremystanley\n",
      "https://www.linkedin.com/in/phillip-middleton-b69b2825\n",
      "https://www.linkedin.com/in/anis-hamdi-872067181\n",
      "https://www.linkedin.com/in/julia-filiberti-allen\n",
      "https://www.linkedin.com/in/ztoa\n",
      "https://www.linkedin.com/in/mateizaharia\n",
      "[✅] Profiles saved to linkedin_profiles.csv\n"
     ]
    }
   ],
   "source": [
    "# Initialize search for AI industry leaders\n",
    "search_agent = SearchAgent(\"USA\")\n",
    "profiles = search_agent.get_profiles()  # Get multiple LinkedIn profile links\n",
    "\n",
    "# Print results\n",
    "print(\"\\n[✅] Extracted LinkedIn Profiles:\")\n",
    "for profile in profiles:\n",
    "    print(profile)\n",
    "\n",
    "# Save to CSV for later use\n",
    "search_agent.save_to_csv(profiles)"
   ]
  },
  {
   "cell_type": "code",
   "execution_count": null,
   "metadata": {},
   "outputs": [],
   "source": []
  }
 ],
 "metadata": {
  "kernelspec": {
   "display_name": "Python 3",
   "language": "python",
   "name": "python3"
  },
  "language_info": {
   "codemirror_mode": {
    "name": "ipython",
    "version": 3
   },
   "file_extension": ".py",
   "mimetype": "text/x-python",
   "name": "python",
   "nbconvert_exporter": "python",
   "pygments_lexer": "ipython3",
   "version": "3.12.8"
  }
 },
 "nbformat": 4,
 "nbformat_minor": 2
}
